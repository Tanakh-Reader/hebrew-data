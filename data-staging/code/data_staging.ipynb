{
 "cells": [
  {
   "cell_type": "code",
   "execution_count": 1,
   "metadata": {},
   "outputs": [],
   "source": [
    "import csv\n",
    "import pandas as pd\n",
    "import unicodedata\n",
    "import os\n",
    "from constants.paths import PATHS\n",
    "from constants.data import STEP_CORPUS, CLEAR_CORPUS, OHB_CORPUS\n",
    "from comparison_parsers import *\n",
    "from file_relocator import *\n",
    "from step_parsers import *"
   ]
  },
  {
   "cell_type": "code",
   "execution_count": 4,
   "metadata": {},
   "outputs": [],
   "source": [
    "df = pd.read_csv('/Users/sethhowell/Desktop/Hebrew-Literacy-App/hebrew-data/data-staging/data/comparisons/step-to-macula-comparison.csv')"
   ]
  },
  {
   "cell_type": "code",
   "execution_count": 7,
   "metadata": {},
   "outputs": [],
   "source": [
    "case = 3"
   ]
  },
  {
   "cell_type": "code",
   "execution_count": 8,
   "metadata": {},
   "outputs": [],
   "source": [
    "x = df.loc[df['case'] == case]"
   ]
  },
  {
   "cell_type": "code",
   "execution_count": 9,
   "metadata": {},
   "outputs": [
    {
     "name": "stdout",
     "output_type": "stream",
     "text": [
      "            stepId stepText maculaText       maculaId  case\n",
      "6362   10130030122        ה        וֹ֙  o010130030132     3\n",
      "17494  10300110031      בְּ      בָּ֣א  o010300110041     3\n",
      "31416  10490110032        ה         וֹ  o010490110042     3\n",
      "31435  10490110122        ה         וֹ  o010490110142     3\n",
      "31984  10500100042   אָטָ֗ד   הָאָטָ֗ד  o010500100041     3\n"
     ]
    }
   ],
   "source": [
    "print(x.head())"
   ]
  },
  {
   "cell_type": "code",
   "execution_count": null,
   "metadata": {},
   "outputs": [],
   "source": [
    "a = StepBibleCorpusProcessor(\n",
    "    # corpora_files_path=\n",
    ")\n",
    "\n",
    "# a.write_corpora_data_formatted()"
   ]
  },
  {
   "cell_type": "code",
   "execution_count": null,
   "metadata": {},
   "outputs": [],
   "source": [
    "fr = FileRelocator()\n",
    "\n",
    "# Copy Macula Hebrew \n",
    "fr.copy_to_new_dir(\n",
    "    source_path= os.path.join(\n",
    "        PATHS.CLEAR_MACULA_HEBREW_SOURCE_DATA_FULL_PATH, \n",
    "        CLEAR_CORPUS.HEBREW_TSV_SOURCE_PATH),\n",
    "    dest_path= os.path.join(\n",
    "        PATHS.CLEAR_MACULA_HEBREW_DEST_FULL_PATH,\n",
    "        CLEAR_CORPUS.WRITE_FILE_UNFORMATTED)\n",
    ")\n",
    "\n",
    "# Unzip OHB Extended \n",
    "# fr.unzip_to_new_dir(\n",
    "#     source_path= os.path.join(\n",
    "#         PATHS.WONG_OHB_SOURCE_DATA_FULL_PATH,\n",
    "#         OHB_CORPUS.BHSA_EXTENDED_FILE),\n",
    "#     dest_path= os.path.join(\n",
    "#         PATHS.WONG_OHB_DEST_FULL_PATH,\n",
    "#         OHB_CORPUS.WRITE_FILE_UNFORMATTED)\n",
    "# )"
   ]
  },
  {
   "cell_type": "code",
   "execution_count": 2,
   "metadata": {},
   "outputs": [],
   "source": [
    "step_wfp = WordFileParser(\n",
    "    file=os.path.join(PATHS.STEP_DATA_DEST_FULL_PATH, STEP_CORPUS.WRITE_FILE_FORMATTED), \n",
    "    word_col=STEP_CORPUS.TEXT_ATTR, \n",
    "    id_col=STEP_CORPUS.ID_ATTR, \n",
    "    name='step')\n",
    "\n",
    "macula_wfp = WordFileParser(\n",
    "    file=os.path.join(PATHS.CLEAR_MACULA_HEBREW_DEST_FULL_PATH, CLEAR_CORPUS.WRITE_FILE_UNFORMATTED), \n",
    "    word_col=CLEAR_CORPUS.TEXT_ATTR, \n",
    "    id_col=CLEAR_CORPUS.ID_ATTR, \n",
    "    name='macula')\n",
    "\n",
    "# etcbc_wfp = WordFileParser(\n",
    "#     file=step_file, \n",
    "#     word_col=STEP_CORPUS.TEXT_ATTR, \n",
    "#     id_col=step_ref_col, \n",
    "#     name='etcbc')"
   ]
  },
  {
   "cell_type": "code",
   "execution_count": 3,
   "metadata": {},
   "outputs": [
    {
     "name": "stdout",
     "output_type": "stream",
     "text": [
      "50000  complete.\n",
      "100000  complete.\n",
      "150000  complete.\n",
      "200000  complete.\n",
      "250000  complete.\n",
      "300000  complete.\n",
      "350000  complete.\n",
      "400000  complete.\n",
      "450000  complete.\n",
      "loading cases dictionary.\n",
      "step-to-macula-comparison.csv comparison complete.\n"
     ]
    }
   ],
   "source": [
    "fc = FileComparisons()\n",
    "\n",
    "for wfps in [(step_wfp, macula_wfp)]:\n",
    "    wfp1, wfp2 = wfps \n",
    "    fc.write_WFP_comparisons(wfp1, wfp2, True)\n",
    "    # print(save_path)"
   ]
  }
 ],
 "metadata": {
  "kernelspec": {
   "display_name": "Python 3.9.5 64-bit",
   "language": "python",
   "name": "python3"
  },
  "language_info": {
   "codemirror_mode": {
    "name": "ipython",
    "version": 3
   },
   "file_extension": ".py",
   "mimetype": "text/x-python",
   "name": "python",
   "nbconvert_exporter": "python",
   "pygments_lexer": "ipython3",
   "version": "3.9.5"
  },
  "orig_nbformat": 4,
  "vscode": {
   "interpreter": {
    "hash": "7812ea015bdcee6f23a998adcdd2ef97c151c0c241b7b7070987d9313e41299d"
   }
  }
 },
 "nbformat": 4,
 "nbformat_minor": 2
}

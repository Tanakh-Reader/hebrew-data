{
 "cells": [
  {
   "cell_type": "code",
   "execution_count": 1,
   "metadata": {},
   "outputs": [],
   "source": [
    "import csv\n",
    "import pandas as pd\n",
    "import unicodedata\n",
    "import os\n",
    "from constants.paths import PATHS\n",
    "from constants.data import STEP_CORPUS, CLEAR_CORPUS\n",
    "from comparison_parsers import *\n",
    "from file_relocator import *\n",
    "from step_parsers import *"
   ]
  },
  {
   "cell_type": "code",
   "execution_count": null,
   "metadata": {},
   "outputs": [],
   "source": [
    "a = StepBibleHebrewDataProcessor()\n",
    "\n",
    "a.write_corpora_data_formatted()"
   ]
  },
  {
   "cell_type": "code",
   "execution_count": 3,
   "metadata": {},
   "outputs": [
    {
     "data": {
      "text/plain": [
       "'/Users/sethhowell/Desktop/Hebrew-Literacy-App/hebrew-data/data-staging/data/Clear-Bible/macula-hebrew-unformatted.tsv'"
      ]
     },
     "execution_count": 3,
     "metadata": {},
     "output_type": "execute_result"
    }
   ],
   "source": [
    "fr = FileRelocator()\n",
    "fr.copy_to_new_dir(\n",
    "    source_path= os.path.join(\n",
    "        PATHS.CLEAR_MACULA_HEBREW_DATA_FULL_PATH, \n",
    "        CLEAR_CORPUS.HEBREW_TSV_SOURCE_PATH),\n",
    "    dest_path= os.path.join(\n",
    "        PATHS.CLEAR_MACULA_HEBREW_DEST_FULL_PATH,\n",
    "        CLEAR_CORPUS.WRITE_FILE_UNFORMATTED)\n",
    ")\n"
   ]
  },
  {
   "cell_type": "code",
   "execution_count": 2,
   "metadata": {},
   "outputs": [],
   "source": [
    "step_wfp = WordFileParser(\n",
    "    file=os.path.join(PATHS.STEP_DATA_DEST_FULL_PATH, STEP_CORPUS.WRITE_FILE_FORMATTED), \n",
    "    word_col=STEP_CORPUS.TEXT_ATTR, \n",
    "    id_col=STEP_CORPUS.ID_ATTR, \n",
    "    name='step')\n",
    "\n",
    "macula_wfp = WordFileParser(\n",
    "    file=os.path.join(PATHS.CLEAR_MACULA_HEBREW_DEST_FULL_PATH, CLEAR_CORPUS.WRITE_FILE_UNFORMATTED), \n",
    "    word_col=CLEAR_CORPUS.TEXT_ATTR, \n",
    "    id_col=CLEAR_CORPUS.ID_ATTR, \n",
    "    name='macula')\n",
    "\n",
    "# etcbc_wfp = WordFileParser(\n",
    "#     file=step_file, \n",
    "#     word_col=STEP_CORPUS.TEXT_ATTR, \n",
    "#     id_col=step_ref_col, \n",
    "#     name='etcbc')"
   ]
  },
  {
   "cell_type": "code",
   "execution_count": 3,
   "metadata": {},
   "outputs": [
    {
     "name": "stdout",
     "output_type": "stream",
     "text": [
      "50000  complete.\n",
      "100000  complete.\n",
      "150000  complete.\n",
      "200000  complete.\n",
      "250000  complete.\n",
      "300000  complete.\n",
      "350000  complete.\n",
      "400000  complete.\n",
      "450000  complete.\n",
      "/Users/sethhowell/Desktop/Hebrew-Literacy-App/hebrew-data/data-staging/data/comparisons/step-to-macula-comparison.csv\n",
      "/Users/sethhowell/Desktop/Hebrew-Literacy-App/hebrew-data/data-staging/data/comparisons/macula-to-step-comparison.csv\n"
     ]
    }
   ],
   "source": [
    "fc = FileComparisons()\n",
    "\n",
    "for wfps in [(step_wfp, macula_wfp), (macula_wfp, step_wfp)]:\n",
    "    wfp1, wfp2 = wfps \n",
    "    save_path = fc.write_WFP_comparisons(wfp1, wfp2)\n",
    "    print(save_path)"
   ]
  }
 ],
 "metadata": {
  "kernelspec": {
   "display_name": "Python 3.9.5 64-bit",
   "language": "python",
   "name": "python3"
  },
  "language_info": {
   "codemirror_mode": {
    "name": "ipython",
    "version": 3
   },
   "file_extension": ".py",
   "mimetype": "text/x-python",
   "name": "python",
   "nbconvert_exporter": "python",
   "pygments_lexer": "ipython3",
   "version": "3.9.5"
  },
  "orig_nbformat": 4,
  "vscode": {
   "interpreter": {
    "hash": "7812ea015bdcee6f23a998adcdd2ef97c151c0c241b7b7070987d9313e41299d"
   }
  }
 },
 "nbformat": 4,
 "nbformat_minor": 2
}
